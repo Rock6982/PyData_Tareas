{
 "cells": [
  {
   "cell_type": "code",
   "execution_count": 1,
   "metadata": {},
   "outputs": [],
   "source": [
    "# QUISPE MENDOZA RODRIGO ARIEL \n",
    "# C.I.: 9086569"
   ]
  },
  {
   "cell_type": "code",
   "execution_count": null,
   "metadata": {},
   "outputs": [],
   "source": [
    "# Ejemplo 1"
   ]
  },
  {
   "cell_type": "code",
   "execution_count": 21,
   "metadata": {},
   "outputs": [],
   "source": [
    "class Coche:\n",
    "    def __init__(self,marca,color,combustible,cilindrada):\n",
    "        self.marca = marca\n",
    "        self.color = color\n",
    "        self.combustible = combustible\n",
    "        self.cilindrada = cilindrada\n",
    "    def mostrar(self):\n",
    "        print(\"DATOS DEL COCHE\")\n",
    "        print(\"Marca: \", self.marca)\n",
    "        print(\"Color: \", self.color)\n",
    "        print(\"Combustible: \",self.combustible)\n",
    "        print(\"Cilindrada: \", self.cilindrada)\n",
    "    def cambiar_color(self,color):\n",
    "        self.color = color"
   ]
  },
  {
   "cell_type": "code",
   "execution_count": 22,
   "metadata": {},
   "outputs": [],
   "source": [
    "coche = Coche(\"Toyota\", \"Negro\", 50, 4)"
   ]
  },
  {
   "cell_type": "code",
   "execution_count": 23,
   "metadata": {},
   "outputs": [
    {
     "name": "stdout",
     "output_type": "stream",
     "text": [
      "DATOS DEL COCHE\n",
      "Marca:  Toyota\n",
      "Color:  Negro\n",
      "Combustible:  50\n",
      "Cilindrada:  4\n"
     ]
    }
   ],
   "source": [
    "coche.mostrar()"
   ]
  },
  {
   "cell_type": "code",
   "execution_count": 24,
   "metadata": {},
   "outputs": [],
   "source": [
    "coche.cambiar_color(\"Azul\")"
   ]
  },
  {
   "cell_type": "code",
   "execution_count": 25,
   "metadata": {},
   "outputs": [
    {
     "name": "stdout",
     "output_type": "stream",
     "text": [
      "DATOS DEL COCHE\n",
      "Marca:  Toyota\n",
      "Color:  Azul\n",
      "Combustible:  50\n",
      "Cilindrada:  4\n"
     ]
    }
   ],
   "source": [
    "coche.mostrar()"
   ]
  },
  {
   "cell_type": "code",
   "execution_count": 26,
   "metadata": {},
   "outputs": [],
   "source": [
    "# Ejemplo 2"
   ]
  },
  {
   "cell_type": "code",
   "execution_count": 71,
   "metadata": {},
   "outputs": [],
   "source": [
    "class Perro:\n",
    "    def __init__(self,nombre,raza,altura):\n",
    "        self.nombre = nombre\n",
    "        self.raza = raza\n",
    "        self.altura = altura\n",
    "    def __str__(self):\n",
    "        return \"{} esta comiendo croquetas y mide {}\".format(self.nombre, self.altura)\n",
    "    def dormir(self):\n",
    "        print(\"{} esta durmiendo\".format(self.nombre))\n",
    "    def ladrar(self):\n",
    "        print(\"{} esta ladrando\".format(self.nombre))\n",
    "    def crecer(self):\n",
    "        self.altura += 5  \n",
    "    def mostrar(self):\n",
    "        print(\"DATOS DE LA MASCOTA\")\n",
    "        print(\"Nombre: {} \\nRaza: {} \\nAltura: {} \".format(self.nombre, self.raza, self.altura))"
   ]
  },
  {
   "cell_type": "code",
   "execution_count": 81,
   "metadata": {},
   "outputs": [],
   "source": [
    "p1 = Perro(\"Shaggy\",\"Labrador\",25)"
   ]
  },
  {
   "cell_type": "code",
   "execution_count": 82,
   "metadata": {},
   "outputs": [
    {
     "name": "stdout",
     "output_type": "stream",
     "text": [
      "DATOS DE LA MASCOTA\n",
      "Nombre: Shaggy \n",
      "Raza: Labrador \n",
      "Altura: 25 \n"
     ]
    }
   ],
   "source": [
    "p1.mostrar()"
   ]
  },
  {
   "cell_type": "code",
   "execution_count": 83,
   "metadata": {},
   "outputs": [],
   "source": [
    "p1.crecer()"
   ]
  },
  {
   "cell_type": "code",
   "execution_count": 84,
   "metadata": {},
   "outputs": [
    {
     "name": "stdout",
     "output_type": "stream",
     "text": [
      "DATOS DE LA MASCOTA\n",
      "Nombre: Shaggy \n",
      "Raza: Labrador \n",
      "Altura: 30 \n"
     ]
    }
   ],
   "source": [
    "p1.mostrar()"
   ]
  }
 ],
 "metadata": {
  "kernelspec": {
   "display_name": "Python 3",
   "language": "python",
   "name": "python3"
  },
  "language_info": {
   "codemirror_mode": {
    "name": "ipython",
    "version": 3
   },
   "file_extension": ".py",
   "mimetype": "text/x-python",
   "name": "python",
   "nbconvert_exporter": "python",
   "pygments_lexer": "ipython3",
   "version": "3.7.7"
  }
 },
 "nbformat": 4,
 "nbformat_minor": 4
}
